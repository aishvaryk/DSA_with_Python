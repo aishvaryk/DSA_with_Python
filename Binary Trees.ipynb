{
 "nbformat": 4,
 "nbformat_minor": 2,
 "metadata": {
  "language_info": {
   "name": "python",
   "codemirror_mode": {
    "name": "ipython",
    "version": 3
   },
   "version": "3.7.4-final"
  },
  "orig_nbformat": 2,
  "file_extension": ".py",
  "mimetype": "text/x-python",
  "name": "python",
  "npconvert_exporter": "python",
  "pygments_lexer": "ipython3",
  "version": 3,
  "kernelspec": {
   "name": "python37464bit7b5e560fcf3c4d3e864db8839def5e17",
   "display_name": "Python 3.7.4 64-bit"
  }
 },
 "cells": [
  {
   "cell_type": "code",
   "execution_count": 7,
   "metadata": {},
   "outputs": [],
   "source": [
    "class BinaryTreeNode:\n",
    "    def __init__(self,key):\n",
    "        self.key=key\n",
    "        self.left=None\n",
    "        self.right=None"
   ]
  },
  {
   "cell_type": "code",
   "execution_count": 15,
   "metadata": {},
   "outputs": [],
   "source": [
    "class BinaryTree:\n",
    "    def __init__(self,root):\n",
    "        self.root=BinaryTreeNode(root)"
   ]
  },
  {
   "cell_type": "code",
   "execution_count": 27,
   "metadata": {},
   "outputs": [],
   "source": [
    "def inOrder(node):\n",
    "    if node is None:\n",
    "        return None\n",
    "    else:\n",
    "        inOrder(node.left)\n",
    "        print(node.key,end=\" \")\n",
    "        inOrder(node.right)\n",
    "\n",
    "def preOrder(node):\n",
    "    if node is None:\n",
    "        return None\n",
    "    else:\n",
    "        print(node.key,end=\" \")\n",
    "        preOrder(node.left)\n",
    "        preOrder(node.right)\n",
    "\n",
    "def postOrder(node):\n",
    "    if node is None:\n",
    "        return None\n",
    "    else:\n",
    "        postOrder(node.left)\n",
    "        postOrder(node.right)\n",
    "        print(node.key,end=\" \")\n",
    "\n",
    "def maxDepth(root):\n",
    "    if root is None:\n",
    "        return 0\n",
    "    else:\n",
    "        left=maxDepth(root.left)\n",
    "        right=maxDepth(root.right)\n",
    "        if left>right:\n",
    "            return left+1\n",
    "        else:\n",
    "            return right+1"
   ]
  },
  {
   "cell_type": "code",
   "execution_count": 28,
   "metadata": {},
   "outputs": [],
   "source": [
    "T=BinaryTree('A')"
   ]
  },
  {
   "cell_type": "code",
   "execution_count": 29,
   "metadata": {},
   "outputs": [],
   "source": [
    "T.root.left=BinaryTreeNode('B')\n",
    "T.root.right=BinaryTreeNode('C')\n",
    "T.root.right.left=BinaryTreeNode('D')\n",
    "T.root.right.left.left=BinaryTreeNode('E')\n",
    "T.root.right.left.right=BinaryTreeNode('F')"
   ]
  },
  {
   "cell_type": "code",
   "execution_count": 30,
   "metadata": {},
   "outputs": [
    {
     "output_type": "stream",
     "name": "stdout",
     "text": "B A E D F C"
    }
   ],
   "source": [
    "inOrder(T.root)"
   ]
  },
  {
   "cell_type": "code",
   "execution_count": 31,
   "metadata": {},
   "outputs": [
    {
     "output_type": "stream",
     "name": "stdout",
     "text": "A B C D E F"
    }
   ],
   "source": [
    "preOrder(T.root)"
   ]
  },
  {
   "cell_type": "code",
   "execution_count": 32,
   "metadata": {},
   "outputs": [
    {
     "output_type": "stream",
     "name": "stdout",
     "text": "B E F D C A"
    }
   ],
   "source": [
    "postOrder(T.root)"
   ]
  },
  {
   "cell_type": "code",
   "execution_count": 33,
   "metadata": {},
   "outputs": [
    {
     "output_type": "execute_result",
     "data": {
      "text/plain": "4"
     },
     "metadata": {},
     "execution_count": 33
    }
   ],
   "source": [
    "maxDepth(T.root)"
   ]
  },
  {
   "cell_type": "markdown",
   "metadata": {},
   "source": [
    "## imp ques\n",
    "https://www.hackerrank.com/challenges/tree-top-view/problem?h_r=next-challenge&h_v=zen"
   ]
  },
  {
   "cell_type": "markdown",
   "metadata": {},
   "source": [
    "# BST"
   ]
  },
  {
   "cell_type": "code",
   "execution_count": 106,
   "metadata": {},
   "outputs": [],
   "source": [
    "def insert(root,data):\n",
    "    if root is None:\n",
    "        root=BinaryTreeNode(data)\n",
    "    else:\n",
    "        if data>root.key:\n",
    "            if root.right is None:\n",
    "                root.right=BinaryTreeNode(data) \n",
    "            else:      \n",
    "                insert(root.right,data)\n",
    "        else:\n",
    "            if root.left is None:\n",
    "                root.left=BinaryTreeNode(data) \n",
    "            else:      \n",
    "                insert(root.left,data)\n",
    "\n",
    "def search(root,data): \n",
    "      \n",
    "    if root is None or root.key == data: \n",
    "        return root \n",
    "    if root.key < data: \n",
    "        return search(root.right,data) \n",
    "    return search(root.left,data) "
   ]
  },
  {
   "cell_type": "code",
   "execution_count": 107,
   "metadata": {},
   "outputs": [],
   "source": [
    "BST=BinaryTree(4)"
   ]
  },
  {
   "cell_type": "code",
   "execution_count": 108,
   "metadata": {},
   "outputs": [],
   "source": [
    "insert(BST.root,3)\n",
    "insert(BST.root,5)\n",
    "insert(BST.root,2)\n",
    "insert(BST.root,7)\n",
    "insert(BST.root,9)"
   ]
  },
  {
   "cell_type": "code",
   "execution_count": 109,
   "metadata": {},
   "outputs": [
    {
     "output_type": "stream",
     "name": "stdout",
     "text": "2 3 4 5 7 9"
    }
   ],
   "source": [
    "inOrder(BST.root)"
   ]
  },
  {
   "cell_type": "code",
   "execution_count": 112,
   "metadata": {},
   "outputs": [
    {
     "output_type": "execute_result",
     "data": {
      "text/plain": "<__main__.BinaryTreeNode at 0x19f72d5dc88>"
     },
     "metadata": {},
     "execution_count": 112
    }
   ],
   "source": [
    "search(BST.root, 5)"
   ]
  },
  {
   "cell_type": "code",
   "execution_count": null,
   "metadata": {},
   "outputs": [],
   "source": []
  }
 ]
}