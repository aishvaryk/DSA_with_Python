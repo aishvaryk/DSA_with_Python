{
 "nbformat": 4,
 "nbformat_minor": 2,
 "metadata": {
  "language_info": {
   "name": "python",
   "codemirror_mode": {
    "name": "ipython",
    "version": 3
   },
   "version": "3.7.4-final"
  },
  "orig_nbformat": 2,
  "file_extension": ".py",
  "mimetype": "text/x-python",
  "name": "python",
  "npconvert_exporter": "python",
  "pygments_lexer": "ipython3",
  "version": 3,
  "kernelspec": {
   "name": "python37464bit7b5e560fcf3c4d3e864db8839def5e17",
   "display_name": "Python 3.7.4 64-bit"
  }
 },
 "cells": [
  {
   "cell_type": "code",
   "execution_count": 1,
   "metadata": {},
   "outputs": [],
   "source": [
    "class Node:\n",
    "    def __init__(self,data):\n",
    "        self.value=data\n",
    "        self.next=None"
   ]
  },
  {
   "cell_type": "code",
   "execution_count": 63,
   "metadata": {},
   "outputs": [],
   "source": [
    "class Linkedlist:\n",
    "    def __init__(self,head=None):\n",
    "        if head!=None:\n",
    "            node=Node(head)\n",
    "            self.head=node\n",
    "        else:\n",
    "            self.head=None\n",
    "    def display(self):\n",
    "        print(self.head.value,end=\" \")\n",
    "        l=self.head\n",
    "        while(l.next):\n",
    "            l=l.next\n",
    "            print(l.value,end=\" \")\n",
    "    def insertatbegin(self,data):\n",
    "        if self.head==None:\n",
    "            self.head=Node(data)\n",
    "        else:    \n",
    "            node=Node(data)\n",
    "            node.next=self.head\n",
    "            self.head=node\n",
    "    def insertatend(self,data):\n",
    "        if self.head==None:\n",
    "            self.head=Node(data)\n",
    "        else:\n",
    "            l=self.head\n",
    "            while(l.next):\n",
    "                l=l.next\n",
    "            l.next=Node(data)\n",
    "    def insertatpos(self,prev_node,data):\n",
    "        if prev_node==None:\n",
    "            print(\"Error\")\n",
    "        else:\n",
    "            new_node=Node(data)\n",
    "            new_node.next=prev_node.next\n",
    "            prev_node.next=new_node\n",
    "    def deleteval(self,key):\n",
    "        temp=self.head\n",
    "        if self.head.value==key: #if head is key\n",
    "            self.head=temp.next\n",
    "            return key\n",
    "        else:\n",
    "            while(temp.next):\n",
    "                if temp.next.value==key:\n",
    "                    # del temp.next\n",
    "                    temp.next=temp.next.next\n",
    "                    return key\n",
    "                temp=temp.next\n",
    "            if temp.next==None:\n",
    "                print(\"Not found\")\n",
    "                return key\n",
    "                    \n",
    ""
   ]
  },
  {
   "cell_type": "code",
   "execution_count": 64,
   "metadata": {},
   "outputs": [],
   "source": [
    "a=Linkedlist(5)"
   ]
  },
  {
   "cell_type": "code",
   "execution_count": 65,
   "metadata": {},
   "outputs": [],
   "source": [
    "a.insertatbegin(4)"
   ]
  },
  {
   "cell_type": "code",
   "execution_count": 66,
   "metadata": {},
   "outputs": [
    {
     "output_type": "stream",
     "name": "stdout",
     "text": "4 5"
    }
   ],
   "source": [
    "a.display()"
   ]
  },
  {
   "cell_type": "code",
   "execution_count": 67,
   "metadata": {},
   "outputs": [],
   "source": [
    "a.insertatend(6)"
   ]
  },
  {
   "cell_type": "code",
   "execution_count": 68,
   "metadata": {},
   "outputs": [
    {
     "output_type": "stream",
     "name": "stdout",
     "text": "4 5 6"
    }
   ],
   "source": [
    "a.display()"
   ]
  },
  {
   "cell_type": "code",
   "execution_count": 69,
   "metadata": {},
   "outputs": [],
   "source": [
    "a.insertatpos(a.head,'s_x')"
   ]
  },
  {
   "cell_type": "code",
   "execution_count": 70,
   "metadata": {},
   "outputs": [
    {
     "output_type": "stream",
     "name": "stdout",
     "text": "4 s_x 5 6"
    }
   ],
   "source": [
    "a.display()"
   ]
  },
  {
   "cell_type": "code",
   "execution_count": 71,
   "metadata": {},
   "outputs": [
    {
     "output_type": "execute_result",
     "data": {
      "text/plain": "'s_x'"
     },
     "metadata": {},
     "execution_count": 71
    }
   ],
   "source": [
    "a.head.next.value"
   ]
  },
  {
   "cell_type": "code",
   "execution_count": 72,
   "metadata": {},
   "outputs": [
    {
     "output_type": "execute_result",
     "data": {
      "text/plain": "'s_x'"
     },
     "metadata": {},
     "execution_count": 72
    }
   ],
   "source": [
    "a.deleteval('s_x')"
   ]
  },
  {
   "cell_type": "code",
   "execution_count": 73,
   "metadata": {},
   "outputs": [
    {
     "output_type": "stream",
     "name": "stdout",
     "text": "4 5 6"
    }
   ],
   "source": [
    "a.display()"
   ]
  },
  {
   "cell_type": "code",
   "execution_count": 74,
   "metadata": {},
   "outputs": [
    {
     "output_type": "execute_result",
     "data": {
      "text/plain": "6"
     },
     "metadata": {},
     "execution_count": 74
    }
   ],
   "source": [
    "a.deleteval(6)"
   ]
  },
  {
   "cell_type": "code",
   "execution_count": 75,
   "metadata": {},
   "outputs": [
    {
     "output_type": "stream",
     "name": "stdout",
     "text": "4 5"
    }
   ],
   "source": [
    "a.display()"
   ]
  },
  {
   "cell_type": "code",
   "execution_count": 77,
   "metadata": {},
   "outputs": [
    {
     "output_type": "stream",
     "name": "stdout",
     "text": "Not found\n"
    },
    {
     "output_type": "execute_result",
     "data": {
      "text/plain": "9"
     },
     "metadata": {},
     "execution_count": 77
    }
   ],
   "source": [
    "a.deleteval(9)"
   ]
  },
  {
   "cell_type": "markdown",
   "metadata": {},
   "source": [
    "### inp links\n",
    "https://www.geeksorgeeks.org/detect-loop-in-a-linked-list/ \n",
    "\n",
    "https://www.geeksforgeeks.org/write-a-c-function-to-print-the-middle-of-the-linked-list/\n",
    "\n",
    "https://www.geeksforgeeks.org/detect-and-remove-loop-in-a-linked-list/?ref=lbp"
   ]
  },
  {
   "cell_type": "markdown",
   "metadata": {},
   "source": [
    "## Circular Linked List"
   ]
  },
  {
   "cell_type": "code",
   "execution_count": 2,
   "metadata": {},
   "outputs": [],
   "source": [
    "class Node:\n",
    "    def __init__(self,data):\n",
    "        self.data=data\n",
    "        self.next=None"
   ]
  },
  {
   "cell_type": "code",
   "execution_count": 72,
   "metadata": {},
   "outputs": [],
   "source": [
    "class List:\n",
    "    def __init__(self,head=None):\n",
    "        if head is not None:\n",
    "            new_node=Node(head)\n",
    "            self.head=new_node\n",
    "            self.head.next=self.head\n",
    "        else:\n",
    "            self.head=None\n",
    "    def insert(self,data):  #at end\n",
    "        if self.head is None:\n",
    "            self.head=Node(data)\n",
    "        else:\n",
    "            t=self.head\n",
    "            while(t.next!=self.head and t.next is not None): #when last node points to 1st node, it's the end node\n",
    "                t=t.next\n",
    "            new_node=Node(data)\n",
    "            t.next=new_node\n",
    "            new_node.next=self.head\n",
    "    def display(self):\n",
    "        t=self.head\n",
    "        if t.next==t:\n",
    "            print(t.data,end=\" \")\n",
    "        else:\n",
    "            print(t.data,end=\" \")\n",
    "            t=t.next\n",
    "            while(t!=self.head): #when last node points to 1st node, it's the end node\n",
    "                print(t.data,end=\" \")\n",
    "                t=t.next\n",
    "            "
   ]
  },
  {
   "cell_type": "code",
   "execution_count": 73,
   "metadata": {},
   "outputs": [],
   "source": [
    "x=List(5)"
   ]
  },
  {
   "cell_type": "code",
   "execution_count": 74,
   "metadata": {},
   "outputs": [
    {
     "output_type": "stream",
     "name": "stdout",
     "text": "5"
    }
   ],
   "source": [
    "x.display()"
   ]
  },
  {
   "cell_type": "code",
   "execution_count": 75,
   "metadata": {},
   "outputs": [],
   "source": [
    "x.insert(10)"
   ]
  },
  {
   "cell_type": "code",
   "execution_count": 76,
   "metadata": {},
   "outputs": [
    {
     "output_type": "stream",
     "name": "stdout",
     "text": "5 10"
    }
   ],
   "source": [
    "x.display()"
   ]
  },
  {
   "cell_type": "code",
   "execution_count": 77,
   "metadata": {},
   "outputs": [],
   "source": [
    "x.insert(15)"
   ]
  },
  {
   "cell_type": "code",
   "execution_count": 78,
   "metadata": {},
   "outputs": [
    {
     "output_type": "stream",
     "name": "stdout",
     "text": "5 10 15"
    }
   ],
   "source": [
    "x.display()"
   ]
  },
  {
   "cell_type": "markdown",
   "metadata": {},
   "source": [
    "### imp links\n",
    "https://www.geeksforgeeks.org/convert-a-binary-tree-to-a-circular-doubly-link-list/\n",
    "\n",
    "https://www.geeksforgeeks.org/implementation-deque-using-circular-array/"
   ]
  },
  {
   "cell_type": "markdown",
   "metadata": {},
   "source": [
    "## Doubly LinkedList"
   ]
  },
  {
   "cell_type": "code",
   "execution_count": 88,
   "metadata": {},
   "outputs": [],
   "source": [
    "class Node:\n",
    "    def __init__(self,data,next=None,prev=None):\n",
    "        self.data=data\n",
    "        self.next=next\n",
    "        self.prev=prev"
   ]
  },
  {
   "cell_type": "code",
   "execution_count": 89,
   "metadata": {},
   "outputs": [],
   "source": [
    "class DoublyLinkedList:\n",
    "    def __init__(self,head):\n",
    "        n=Node(head)\n",
    "        self.head=n\n",
    "    def insert(self,data): #insert at end\n",
    "        new_node=Node(data)\n",
    "        if self.head is None:\n",
    "            self.head=new_node\n",
    "        else:\n",
    "            l=self.head\n",
    "            while(l.next):\n",
    "                l=l.next\n",
    "            l.next=new_node\n",
    "            x=l.next\n",
    "            x.prev=l\n",
    "    def display(self):\n",
    "        if self.head.next is None:\n",
    "            print(self.head.data)\n",
    "        else:\n",
    "            print(self.head.data,end=\" \")\n",
    "            l=self.head\n",
    "            while(l.next):\n",
    "                l=l.next\n",
    "                print(l.data,end=\" \")\n",
    "            "
   ]
  },
  {
   "cell_type": "code",
   "execution_count": 90,
   "metadata": {},
   "outputs": [],
   "source": [
    "d=DoublyLinkedList(4)"
   ]
  },
  {
   "cell_type": "code",
   "execution_count": 91,
   "metadata": {},
   "outputs": [
    {
     "output_type": "stream",
     "name": "stdout",
     "text": "4\n"
    }
   ],
   "source": [
    "d.display()"
   ]
  },
  {
   "cell_type": "code",
   "execution_count": 92,
   "metadata": {},
   "outputs": [],
   "source": [
    "d.insert(4)"
   ]
  },
  {
   "cell_type": "code",
   "execution_count": 93,
   "metadata": {},
   "outputs": [],
   "source": [
    "d.insert(7)"
   ]
  },
  {
   "cell_type": "code",
   "execution_count": 94,
   "metadata": {},
   "outputs": [
    {
     "output_type": "stream",
     "name": "stdout",
     "text": "4 4 7"
    }
   ],
   "source": [
    "d.display()"
   ]
  },
  {
   "cell_type": "markdown",
   "metadata": {},
   "source": [
    "### imp links\n",
    "\n",
    "https://www.geeksforgeeks.org/create-doubly-linked-list-ternary-ree/\n",
    "\n",
    "https://www.geeksforgeeks.org/merge-sort-for-doubly-linked-list/\n",
    "\n",
    "https://www.geeksforgeeks.org/quicksort-for-linked-list/\n",
    "\n",
    "https://www.geeksforgeeks.org/count-triplets-sorted-doubly-linked-list-whose-sum-equal-given-value-x/\n",
    "\n",
    "https://www.geeksforgeeks.org/sort-k-sorted-doubly-linked-list/\n",
    "\n",
    "https://www.geeksforgeeks.org/convert-a-given-binary-tree-to-doubly-linked-list-set-4/\n",
    "\n",
    "https://www.geeksforgeeks.org/rotate-doubly-linked-list-n-nodes/\n",
    "\n",
    "https://www.geeksforgeeks.org/priority-queue-using-doubly-linked-list/"
   ]
  },
  {
   "cell_type": "markdown",
   "metadata": {},
   "source": [
    "#### Always define head and tail as well in Doubly linked lists"
   ]
  },
  {
   "cell_type": "code",
   "execution_count": null,
   "metadata": {},
   "outputs": [],
   "source": []
  }
 ]
}