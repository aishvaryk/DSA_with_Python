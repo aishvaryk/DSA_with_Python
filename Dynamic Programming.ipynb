{
 "cells": [
  {
   "cell_type": "code",
   "execution_count": 1,
   "metadata": {},
   "outputs": [],
   "source": [
    "# step 1 recognise the problem \n",
    "#if it has choices then, make recursion algo, for this make choice diagram\n",
    "#then memoize that algo"
   ]
  },
  {
   "cell_type": "markdown",
   "metadata": {},
   "source": [
    "### 01 Knapsack"
   ]
  },
  {
   "cell_type": "code",
   "execution_count": 5,
   "metadata": {},
   "outputs": [],
   "source": [
    "def Knapsack(weights, values, W, n): #recursive algo\n",
    "    #base condition(smallest valid input)\n",
    "    if W==0 or n==0:\n",
    "        return 0\n",
    "    #choice diagram \n",
    "    if weights[n-1]<=W:\n",
    "        return max(values[n-1] + Knapsack(weights,values,W-weights[n-1],n-1), Knapsack(weights,values,W,n-1))\n",
    "    else:\n",
    "        return Knapsack(weights,values,W,n-1)\n",
    "        \n",
    "        "
   ]
  },
  {
   "cell_type": "code",
   "execution_count": 8,
   "metadata": {},
   "outputs": [],
   "source": [
    "#memoization use matrix or dictionary\n",
    "dic={}\n",
    "def Knapsack(weights,values,W,n):\n",
    "    #base condition(smallest valid input)\n",
    "    if W==0 or n==0:\n",
    "        return 0\n",
    "    #choice diagram \n",
    "    if (W,n) in dic:\n",
    "        return dic[(W,n)]\n",
    "    if weights[n-1]<=W:\n",
    "        dic[(W,n)]=max(values[n-1] + Knapsack(weights,values,W-weights[n-1],n-1), Knapsack(weights,values,W,n-1))\n",
    "        return dic[(W,n)]\n",
    "    else:\n",
    "        dic[(W,n)] = Knapsack(weights,values,W,n-1)\n",
    "        return dic[(W,n)]\n"
   ]
  },
  {
   "cell_type": "code",
   "execution_count": 27,
   "metadata": {},
   "outputs": [],
   "source": [
    "#using iteraative approach or bottom-up approach\n",
    "dic={}\n",
    "def Knapsack(weights,values,W,n):\n",
    "    for i in range(W+1):\n",
    "        for j in range(0,n+1):\n",
    "            if i==0 or j==0:\n",
    "                dic[(i,j)]=0\n",
    "    for i in range(1,W+1):\n",
    "        for j in range(1,n+1):\n",
    "            if weights[j-1]<=i:\n",
    "                dic[(i,j)]=max(dic[(i,j-1)],values[j-1]+dic[i-weights[j-1],j-1])\n",
    "            else:\n",
    "                dic[(i,j)]= dic[(i,j-1)]\n",
    "                           "
   ]
  },
  {
   "cell_type": "code",
   "execution_count": 28,
   "metadata": {},
   "outputs": [],
   "source": [
    "w=[10,20,30]\n",
    "v=[60,100,120]\n",
    "n=3\n",
    "W=50"
   ]
  },
  {
   "cell_type": "code",
   "execution_count": 31,
   "metadata": {},
   "outputs": [],
   "source": [
    "Knapsack(w,v,W,n)"
   ]
  },
  {
   "cell_type": "code",
   "execution_count": 32,
   "metadata": {},
   "outputs": [
    {
     "name": "stdout",
     "output_type": "stream",
     "text": [
      "220\n"
     ]
    }
   ],
   "source": [
    "\n",
    "print (dic[(W,n)])"
   ]
  },
  {
   "cell_type": "markdown",
   "metadata": {},
   "source": [
    "### Knapsack based Problems"
   ]
  },
  {
   "cell_type": "markdown",
   "metadata": {},
   "source": [
    "#### subset equal sum problem"
   ]
  },
  {
   "cell_type": "code",
   "execution_count": 26,
   "metadata": {},
   "outputs": [],
   "source": [
    "#see the code differences \n",
    "#start form initialisation\n",
    "#empty set has 0 sum\n",
    "\n",
    "def SubsetSum(arr,n,s):\n",
    "    #initialise the dictionary\n",
    "    dic={}\n",
    "    for i in range(n+1):\n",
    "        for j in range(s+1):\n",
    "            if j==0: #if sum is zero there exists always an empty subset\n",
    "                dic[(i,j)]= True\n",
    "            elif i==0 and j>0: #if n is zero and sum is positive then its not possible\n",
    "                dic[(i,j)]= False \n",
    "    for i in range(1,n+1):\n",
    "        for j in range(1,s+1):\n",
    "            if arr[i-1]<=j:\n",
    "                dic[(i,j)]=dic[(i-1,j)] or dic[(i,j-arr[i-1])]\n",
    "            else:\n",
    "                dic[(i,j)]=dic[(i-1,j)]\n",
    "    return dic[(n,s)]"
   ]
  },
  {
   "cell_type": "code",
   "execution_count": 27,
   "metadata": {},
   "outputs": [],
   "source": [
    "arr=[3, 34, 4, 12, 5, 2]\n",
    "n=6\n",
    "s=9"
   ]
  },
  {
   "cell_type": "code",
   "execution_count": 28,
   "metadata": {},
   "outputs": [
    {
     "data": {
      "text/plain": [
       "True"
      ]
     },
     "execution_count": 28,
     "metadata": {},
     "output_type": "execute_result"
    }
   ],
   "source": [
    "SubsetSum(arr,n,s)"
   ]
  },
  {
   "cell_type": "code",
   "execution_count": null,
   "metadata": {},
   "outputs": [],
   "source": []
  },
  {
   "cell_type": "markdown",
   "metadata": {},
   "source": [
    "#### equal sum partition problem"
   ]
  },
  {
   "cell_type": "code",
   "execution_count": 20,
   "metadata": {},
   "outputs": [],
   "source": [
    "#partition of arrays into two subsets of equal sums\n",
    "#if sum of array is even only then it can be partitioned\n",
    "#if sum is even we need to check if half of the sum is there or not\n",
    "#hence it breaks down to previous problem\n",
    "def EqualSumPartition(arr,n,dic):\n",
    "    if sum(arr)%2!=0:\n",
    "        return False\n",
    "    else:\n",
    "        s=sum(arr)//2\n",
    "        SubsetSum(arr,n,s,dic)"
   ]
  },
  {
   "cell_type": "code",
   "execution_count": null,
   "metadata": {},
   "outputs": [],
   "source": [
    "a=[1,5,11,5]\n",
    "n=4\n",
    "dic1={}"
   ]
  }
 ],
 "metadata": {
  "kernelspec": {
   "display_name": "Python 3",
   "language": "python",
   "name": "python3"
  },
  "language_info": {
   "codemirror_mode": {
    "name": "ipython",
    "version": 3
   },
   "file_extension": ".py",
   "mimetype": "text/x-python",
   "name": "python",
   "nbconvert_exporter": "python",
   "pygments_lexer": "ipython3",
   "version": "3.7.4"
  }
 },
 "nbformat": 4,
 "nbformat_minor": 4
}
