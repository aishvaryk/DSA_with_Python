{
 "cells": [
  {
   "cell_type": "code",
   "execution_count": 1,
   "metadata": {},
   "outputs": [],
   "source": [
    "# step 1 recognise the problem \n",
    "#if it has choices then, make recursion algo, for this make choice diagram\n",
    "#then memoize that algo"
   ]
  },
  {
   "cell_type": "markdown",
   "metadata": {},
   "source": [
    "### 01 Knapsack"
   ]
  },
  {
   "cell_type": "code",
   "execution_count": 5,
   "metadata": {},
   "outputs": [],
   "source": [
    "def Knapsack(weights, values, W, n): #recursive algo\n",
    "    #base condition(smallest valid input)\n",
    "    if W==0 or n==0:\n",
    "        return 0\n",
    "    #choice diagram \n",
    "    if weights[n-1]<=W:\n",
    "        return max(values[n-1] + Knapsack(weights,values,W-weights[n-1],n-1), Knapsack(weights,values,W,n-1))\n",
    "    else:\n",
    "        return Knapsack(weights,values,W,n-1)\n",
    "        \n",
    "        "
   ]
  },
  {
   "cell_type": "code",
   "execution_count": 8,
   "metadata": {},
   "outputs": [],
   "source": [
    "#memoization use matrix or dictionary\n",
    "dic={}\n",
    "def Knapsack(weights,values,W,n):\n",
    "    #base condition(smallest valid input)\n",
    "    if W==0 or n==0:\n",
    "        return 0\n",
    "    #choice diagram \n",
    "    if (W,n) in dic:\n",
    "        return dic[(W,n)]\n",
    "    if weights[n-1]<=W:\n",
    "        dic[(W,n)]=max(values[n-1] + Knapsack(weights,values,W-weights[n-1],n-1), Knapsack(weights,values,W,n-1))\n",
    "        return dic[(W,n)]\n",
    "    else:\n",
    "        dic[(W,n)] = Knapsack(weights,values,W,n-1)\n",
    "        return dic[(W,n)]\n"
   ]
  },
  {
   "cell_type": "code",
   "execution_count": 45,
   "metadata": {},
   "outputs": [],
   "source": [
    "#using iteraative approach or bottom-up approach\n",
    "\n",
    "def Knapsack(weights,values,W,n):\n",
    "    dic={}\n",
    "    for i in range(W+1):\n",
    "        for j in range(0,n+1):\n",
    "            if i==0 or j==0:\n",
    "                dic[(i,j)]=0\n",
    "    for i in range(1,W+1):\n",
    "        for j in range(1,n+1):\n",
    "            if weights[j-1]<=i:\n",
    "                dic[(i,j)]=max(dic[(i,j-1)],values[j-1]+dic[i-weights[j-1],j-1])\n",
    "            else:\n",
    "                dic[(i,j)]= dic[(i,j-1)]\n",
    "    return dic[(W,n)]"
   ]
  },
  {
   "cell_type": "code",
   "execution_count": 46,
   "metadata": {},
   "outputs": [],
   "source": [
    "w=[10,20,30]\n",
    "v=[60,100,120]\n",
    "n=3\n",
    "W=50"
   ]
  },
  {
   "cell_type": "code",
   "execution_count": 47,
   "metadata": {},
   "outputs": [
    {
     "data": {
      "text/plain": [
       "220"
      ]
     },
     "execution_count": 47,
     "metadata": {},
     "output_type": "execute_result"
    }
   ],
   "source": [
    "Knapsack(w,v,W,n)"
   ]
  },
  {
   "cell_type": "markdown",
   "metadata": {},
   "source": [
    "### Knapsack based Problems"
   ]
  },
  {
   "cell_type": "markdown",
   "metadata": {},
   "source": [
    "#### subset equal sum problem"
   ]
  },
  {
   "cell_type": "code",
   "execution_count": 1,
   "metadata": {},
   "outputs": [],
   "source": [
    "#see the code differences \n",
    "#start form initialisation\n",
    "#empty set has 0 sum\n",
    "\n",
    "def SubsetSum(arr,n,s):\n",
    "    #initialise the dictionary\n",
    "    dic={}\n",
    "    for i in range(n+1):\n",
    "        for j in range(s+1):\n",
    "            if j==0: #if sum is zero there exists always an empty subset\n",
    "                dic[(i,j)]= True\n",
    "            elif i==0 and j>0: #if n is zero and sum is positive then its not possible\n",
    "                dic[(i,j)]= False \n",
    "    for i in range(1,n+1):\n",
    "        for j in range(1,s+1):\n",
    "            if arr[i-1]<=j:\n",
    "                dic[(i,j)]=dic[(i-1,j)] or dic[(i-1,j-arr[i-1])]\n",
    "            else:\n",
    "                dic[(i,j)]=dic[(i-1,j)]\n",
    "    return dic[(n,s)]"
   ]
  },
  {
   "cell_type": "code",
   "execution_count": 2,
   "metadata": {},
   "outputs": [],
   "source": [
    "arr=[3, 34, 4, 12, 5, 2]\n",
    "n=6\n",
    "s=9"
   ]
  },
  {
   "cell_type": "code",
   "execution_count": 3,
   "metadata": {},
   "outputs": [
    {
     "data": {
      "text/plain": [
       "True"
      ]
     },
     "execution_count": 3,
     "metadata": {},
     "output_type": "execute_result"
    }
   ],
   "source": [
    "SubsetSum(arr,n,s)"
   ]
  },
  {
   "cell_type": "markdown",
   "metadata": {},
   "source": [
    "#### equal sum partition problem"
   ]
  },
  {
   "cell_type": "code",
   "execution_count": 4,
   "metadata": {},
   "outputs": [],
   "source": [
    "#partition of arrays into two subsets of equal sums\n",
    "#if sum of array is even only then it can be partitioned\n",
    "#if sum is even we need to check if half of the sum is there or not\n",
    "#hence it breaks down to previous problem\n",
    "def EqualSumPartition(arr,n):\n",
    "    if sum(arr)%2!=0:\n",
    "        return False\n",
    "    else:\n",
    "        s=sum(arr)//2\n",
    "        return SubsetSum(arr,n,s)"
   ]
  },
  {
   "cell_type": "code",
   "execution_count": 5,
   "metadata": {},
   "outputs": [],
   "source": [
    "a=[1,5,11,5]\n",
    "n=4"
   ]
  },
  {
   "cell_type": "code",
   "execution_count": 6,
   "metadata": {},
   "outputs": [
    {
     "data": {
      "text/plain": [
       "True"
      ]
     },
     "execution_count": 6,
     "metadata": {},
     "output_type": "execute_result"
    }
   ],
   "source": [
    "EqualSumPartition(a,n)"
   ]
  },
  {
   "cell_type": "markdown",
   "metadata": {},
   "source": [
    "#### count subsets"
   ]
  },
  {
   "cell_type": "code",
   "execution_count": 25,
   "metadata": {},
   "outputs": [],
   "source": [
    "def CountSubsets(arr,n,s):\n",
    "    dic={}\n",
    "    #initialization\n",
    "    for i in range(n+1):\n",
    "        for j in range(s+1):\n",
    "            if j==0:\n",
    "                dic[(i,j)]=1\n",
    "            elif i==0:\n",
    "                dic[(i,j)]=0\n",
    "    for i in range(1,n+1):\n",
    "        for j in range(1,s+1):\n",
    "            if arr[i-1]<=j:\n",
    "                dic[(i,j)]=dic[(i-1,j)]+dic[(i-1,j-arr[i-1])]\n",
    "            else:\n",
    "                dic[(i,j)]=dic[(i-1,j)]\n",
    "    return dic[(n,s)]\n"
   ]
  },
  {
   "cell_type": "code",
   "execution_count": 27,
   "metadata": {},
   "outputs": [
    {
     "data": {
      "text/plain": [
       "3"
      ]
     },
     "execution_count": 27,
     "metadata": {},
     "output_type": "execute_result"
    }
   ],
   "source": [
    "arr=[2,3,5,6,8,10]\n",
    "n=6\n",
    "s=10\n",
    "CountSubsets(arr,n,s)"
   ]
  },
  {
   "cell_type": "markdown",
   "metadata": {},
   "source": [
    "#### minimum subset difference problem"
   ]
  },
  {
   "cell_type": "code",
   "execution_count": 32,
   "metadata": {},
   "outputs": [],
   "source": [
    "#if s1 and s2 are the sum of subsets \n",
    "#we find range of s1 and s2\n",
    "#in range ony find valid values of s1 and s2\n",
    "#now always s2=Range-s1\n",
    "# so minimize Range-s1-s1=Range-2s1\n",
    "#now s1 will have value from 0 to half the range\n",
    "def MinSubsetDiff(arr,n):\n",
    "    ranges=[] #list including all possible values of s1\n",
    "    s=sum(arr)\n",
    "    for i in range(0,(s//2)+1):\n",
    "        if SubsetSum(arr,n,i):\n",
    "            ranges.append(i)\n",
    "    min_diff=s\n",
    "    for i in ranges:\n",
    "        d=s-(2*i)\n",
    "        if d<min_diff:\n",
    "            min_diff=d\n",
    "    return min_diff\n",
    "    \n",
    "            "
   ]
  },
  {
   "cell_type": "code",
   "execution_count": 33,
   "metadata": {},
   "outputs": [
    {
     "data": {
      "text/plain": [
       "4"
      ]
     },
     "execution_count": 33,
     "metadata": {},
     "output_type": "execute_result"
    }
   ],
   "source": [
    "arr=[1,2,7]\n",
    "n=3\n",
    "MinSubsetDiff(arr,n)"
   ]
  },
  {
   "cell_type": "code",
   "execution_count": null,
   "metadata": {},
   "outputs": [],
   "source": []
  }
 ],
 "metadata": {
  "kernelspec": {
   "display_name": "Python 3",
   "language": "python",
   "name": "python3"
  },
  "language_info": {
   "codemirror_mode": {
    "name": "ipython",
    "version": 3
   },
   "file_extension": ".py",
   "mimetype": "text/x-python",
   "name": "python",
   "nbconvert_exporter": "python",
   "pygments_lexer": "ipython3",
   "version": "3.7.4"
  }
 },
 "nbformat": 4,
 "nbformat_minor": 4
}
