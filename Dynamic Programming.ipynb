{
 "cells": [
  {
   "cell_type": "code",
   "execution_count": 1,
   "metadata": {},
   "outputs": [],
   "source": [
    "# step 1 recognise the problem \n",
    "#if it has choices then, make recursion algo, for this make choice diagram\n",
    "#then memoize that algo"
   ]
  },
  {
   "cell_type": "markdown",
   "metadata": {},
   "source": [
    "### 01 Knapsack"
   ]
  },
  {
   "cell_type": "code",
   "execution_count": 5,
   "metadata": {},
   "outputs": [],
   "source": [
    "def Knapsack(weights, values, W, n): #recursive algo\n",
    "    #base condition(smallest valid input)\n",
    "    if W==0 or n==0:\n",
    "        return 0\n",
    "    #choice diagram \n",
    "    if weights[n-1]<=W:\n",
    "        return max(values[n-1] + Knapsack(weights,values,W-weights[n-1],n-1), Knapsack(weights,values,W,n-1))\n",
    "    else:\n",
    "        return Knapsack(weights,values,W,n-1)\n",
    "        \n",
    "        "
   ]
  },
  {
   "cell_type": "code",
   "execution_count": 8,
   "metadata": {},
   "outputs": [],
   "source": [
    "#memoization use matrix or dictionary\n",
    "dic={}\n",
    "def Knapsack(weights,values,W,n):\n",
    "    #base condition(smallest valid input)\n",
    "    if W==0 or n==0:\n",
    "        return 0\n",
    "    #choice diagram \n",
    "    if (W,n) in dic:\n",
    "        return dic[(W,n)]\n",
    "    if weights[n-1]<=W:\n",
    "        dic[(W,n)]=max(values[n-1] + Knapsack(weights,values,W-weights[n-1],n-1), Knapsack(weights,values,W,n-1))\n",
    "        return dic[(W,n)]\n",
    "    else:\n",
    "        dic[(W,n)] = Knapsack(weights,values,W,n-1)\n",
    "        return dic[(W,n)]\n"
   ]
  },
  {
   "cell_type": "code",
   "execution_count": 27,
   "metadata": {},
   "outputs": [],
   "source": [
    "#using iteraative approach or bottom-up approach\n",
    "dic={}\n",
    "def Knapsack(weights,values,W,n):\n",
    "    for i in range(W+1):\n",
    "        for j in range(0,n+1):\n",
    "            if i==0 or j==0:\n",
    "                dic[(i,j)]=0\n",
    "    for i in range(1,W+1):\n",
    "        for j in range(1,n+1):\n",
    "            if weights[j-1]<=i:\n",
    "                dic[(i,j)]=max(dic[(i,j-1)],values[j-1]+dic[i-weights[j-1],j-1])\n",
    "            else:\n",
    "                dic[(i,j)]= dic[(i,j-1)]\n",
    "                           "
   ]
  },
  {
   "cell_type": "code",
   "execution_count": 28,
   "metadata": {},
   "outputs": [],
   "source": [
    "w=[10,20,30]\n",
    "v=[60,100,120]\n",
    "n=3\n",
    "W=50"
   ]
  },
  {
   "cell_type": "code",
   "execution_count": 31,
   "metadata": {},
   "outputs": [],
   "source": [
    "Knapsack(w,v,W,n)"
   ]
  },
  {
   "cell_type": "code",
   "execution_count": 32,
   "metadata": {},
   "outputs": [
    {
     "name": "stdout",
     "output_type": "stream",
     "text": [
      "220\n"
     ]
    }
   ],
   "source": [
    "\n",
    "print (dic[(W,n)])"
   ]
  },
  {
   "cell_type": "markdown",
   "metadata": {},
   "source": [
    "### Knapsack based Problems"
   ]
  },
  {
   "cell_type": "code",
   "execution_count": null,
   "metadata": {},
   "outputs": [],
   "source": []
  }
 ],
 "metadata": {
  "kernelspec": {
   "display_name": "Python 3",
   "language": "python",
   "name": "python3"
  },
  "language_info": {
   "codemirror_mode": {
    "name": "ipython",
    "version": 3
   },
   "file_extension": ".py",
   "mimetype": "text/x-python",
   "name": "python",
   "nbconvert_exporter": "python",
   "pygments_lexer": "ipython3",
   "version": "3.7.4"
  }
 },
 "nbformat": 4,
 "nbformat_minor": 4
}
