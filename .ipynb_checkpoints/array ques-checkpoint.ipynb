{
 "cells": [
  {
   "cell_type": "markdown",
   "metadata": {},
   "source": [
    "### array ques"
   ]
  },
  {
   "cell_type": "code",
   "execution_count": 24,
   "metadata": {},
   "outputs": [],
   "source": [
    "#selection sort\n",
    "#find min and put it in front\n",
    "def SelectionSort(a):\n",
    "    n=len(a)\n",
    "    for i in range(n):\n",
    "        indmin=i #index of minimum element\n",
    "        for j in range(i,n):\n",
    "            if a[j]<a[indmin]:\n",
    "                indmin=j\n",
    "        a[i],a[indmin]=a[indmin],a[i]\n",
    "    return a"
   ]
  },
  {
   "cell_type": "code",
   "execution_count": 25,
   "metadata": {},
   "outputs": [
    {
     "data": {
      "text/plain": [
       "[1, 2, 3, 4, 5]"
      ]
     },
     "execution_count": 25,
     "metadata": {},
     "output_type": "execute_result"
    }
   ],
   "source": [
    "SelectionSort([5,4,3,2,1])"
   ]
  },
  {
   "cell_type": "code",
   "execution_count": 29,
   "metadata": {},
   "outputs": [],
   "source": [
    "#bubble sort\n",
    "def BubbleSort(a):\n",
    "    n=len(a)\n",
    "    for i in range(n):\n",
    "        for j in range(n-1):\n",
    "            if a[j]>a[j+1]:\n",
    "                a[j+1],a[j]=a[j],a[j+1]\n",
    "    return a"
   ]
  },
  {
   "cell_type": "code",
   "execution_count": 30,
   "metadata": {},
   "outputs": [
    {
     "data": {
      "text/plain": [
       "[1, 2, 3, 4, 5]"
      ]
     },
     "execution_count": 30,
     "metadata": {},
     "output_type": "execute_result"
    }
   ],
   "source": [
    "BubbleSort([5,4,3,2,1])"
   ]
  },
  {
   "cell_type": "code",
   "execution_count": 4,
   "metadata": {},
   "outputs": [],
   "source": [
    "#insertion sort"
   ]
  },
  {
   "cell_type": "code",
   "execution_count": 31,
   "metadata": {},
   "outputs": [],
   "source": [
    "#union of two arrays in nlogn \n",
    "def Union(a1,a2):\n",
    "    add=a1+a2\n",
    "    add.sort()\n",
    "    union=[]\n",
    "    for i in range(len(add)-1):\n",
    "        if add[i]!=add[i+1]:\n",
    "            union.append(add[i])\n",
    "    union.append(add[-1])\n",
    "    return union"
   ]
  },
  {
   "cell_type": "code",
   "execution_count": 32,
   "metadata": {},
   "outputs": [
    {
     "data": {
      "text/plain": [
       "[1, 2, 3, 4]"
      ]
     },
     "execution_count": 32,
     "metadata": {},
     "output_type": "execute_result"
    }
   ],
   "source": [
    "Union([1,2,3],[2,3,4])"
   ]
  },
  {
   "cell_type": "code",
   "execution_count": 6,
   "metadata": {},
   "outputs": [],
   "source": [
    "#rearrange negative first "
   ]
  },
  {
   "cell_type": "code",
   "execution_count": 18,
   "metadata": {},
   "outputs": [],
   "source": [
    "#binary search\n",
    "def BinarySearch(a,k):#a is array and k is key\n",
    "    l=0\n",
    "    r=len(a)-1\n",
    "    return binsearch(a,k,l,r)\n",
    "def binsearch(a,k,l,r):\n",
    "    m=(l+r)//2\n",
    "    if k==a[m]:\n",
    "        return m\n",
    "    if l==len(a)-1 or m==0:\n",
    "        return -1\n",
    "    if k>a[m]:\n",
    "        l=m+1\n",
    "        return binsearch(a,k,l,r)\n",
    "    else:\n",
    "        r=m-1\n",
    "        return binsearch(a,k,l,r)"
   ]
  },
  {
   "cell_type": "code",
   "execution_count": 21,
   "metadata": {},
   "outputs": [
    {
     "data": {
      "text/plain": [
       "0"
      ]
     },
     "execution_count": 21,
     "metadata": {},
     "output_type": "execute_result"
    }
   ],
   "source": [
    "BinarySearch([1,2,3,4,5],1)"
   ]
  },
  {
   "cell_type": "markdown",
   "metadata": {},
   "source": [
    "[imp link](https://www.geeksforgeeks.org/kth-smallestlargest-element-unsorted-array/)"
   ]
  },
  {
   "cell_type": "markdown",
   "metadata": {},
   "source": [
    "[good ques](https://practice.geeksforgeeks.org/problems/subarray-with-0-sum/0)"
   ]
  },
  {
   "cell_type": "code",
   "execution_count": 35,
   "metadata": {},
   "outputs": [
    {
     "name": "stdout",
     "output_type": "stream",
     "text": [
      "1\n",
      "4\n",
      "3 4 -3 2\n",
      "No\n"
     ]
    }
   ],
   "source": [
    "#answer to above\n",
    "n=int(input())\n",
    "for _ in range(n):\n",
    "    m=int(input())\n",
    "    l=[int(i) for i in input().split()]\n",
    "    curr_sum=0\n",
    "    s=set()\n",
    "    f=0\n",
    "    for i in l:\n",
    "        curr_sum+=i\n",
    "        if curr_sum in s or curr_sum==0:\n",
    "            f=1\n",
    "            print('Yes')\n",
    "            break\n",
    "        else:\n",
    "            s.add(curr_sum)\n",
    "    if f==0:\n",
    "        print('No')"
   ]
  },
  {
   "cell_type": "markdown",
   "metadata": {},
   "source": [
    "[ques](https://practice.geeksforgeeks.org/problems/longest-consecutive-subsequence/0)"
   ]
  },
  {
   "cell_type": "code",
   "execution_count": 51,
   "metadata": {},
   "outputs": [
    {
     "name": "stdout",
     "output_type": "stream",
     "text": [
      "84\n",
      "86 177 115 193 135 186 92 49 21 162 27 90 59 163 126 140 26 172 136 11 168 167 29 182 130 62 123 67 129 2 22 58 69 56 42 173 119 184 137 198 124 170 13 91 180 156 73 196 81 105 125 84 127 46 113 57 95 145 14 34 164 43 150 87 8 76 178 188 3 51 154 199 132 60 139 12 94 195 1 97 102 117 52 101\n",
      "5\n"
     ]
    }
   ],
   "source": [
    "#code\n",
    "m=int(input())\n",
    "l=[int(i) for i in input().split()]\n",
    "l.sort()\n",
    "cur_c=1\n",
    "max_c=1\n",
    "for i in range(m-1):\n",
    "    if l[i]==l[i+1]-1:\n",
    "        cur_c+=1\n",
    "    elif l[i]==l[i+1]: #in case of duplicate elements\n",
    "        cur_c=cur_c\n",
    "    else:\n",
    "        if cur_c>max_c:\n",
    "            max_c=cur_c\n",
    "        cur_c=1\n",
    "if cur_c>max_c: #in case if subsequence last elements is list's last element\n",
    "    max_c=cur_c\n",
    "print(max_c)"
   ]
  },
  {
   "cell_type": "markdown",
   "metadata": {},
   "source": [
    "#### Kadane's Algo"
   ]
  },
  {
   "cell_type": "code",
   "execution_count": 59,
   "metadata": {},
   "outputs": [
    {
     "name": "stdout",
     "output_type": "stream",
     "text": [
      "5\n",
      "1 2 3 -2 5\n",
      "3\n",
      "6\n",
      "4\n",
      "9\n",
      "9\n"
     ]
    }
   ],
   "source": [
    "    m=int(input())\n",
    "    l=[int(i) for i in input().split()]\n",
    "    cur_max=l[0]\n",
    "    max_max=l[0]\n",
    "    for i in range(1,m):\n",
    "        cur_max=max(l[i],cur_max+l[i])\n",
    "        if cur_max>max_max:\n",
    "            max_max=cur_max\n",
    "    print(max_max)"
   ]
  },
  {
   "cell_type": "markdown",
   "metadata": {},
   "source": []
  }
 ],
 "metadata": {
  "kernelspec": {
   "display_name": "Python 3.7.4 64-bit",
   "language": "python",
   "name": "python37464bit7b5e560fcf3c4d3e864db8839def5e17"
  },
  "language_info": {
   "codemirror_mode": {
    "name": "ipython",
    "version": 3
   },
   "file_extension": ".py",
   "mimetype": "text/x-python",
   "name": "python",
   "nbconvert_exporter": "python",
   "pygments_lexer": "ipython3",
   "version": "3.7.4"
  }
 },
 "nbformat": 4,
 "nbformat_minor": 2
}
